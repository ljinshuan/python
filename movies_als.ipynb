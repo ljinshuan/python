{
 "cells": [
  {
   "cell_type": "code",
   "execution_count": 1,
   "metadata": {},
   "outputs": [],
   "source": [
    "from pyspark.ml.evaluation import RegressionEvaluator\n",
    "from pyspark.ml.recommendation import ALS\n",
    "from pyspark.sql import Row\n",
    "from pyspark.sql import SparkSession\n",
    "\n",
    "spark=SparkSession.builder.appName(\"SimpleApp_movies\").getOrCreate()"
   ]
  },
  {
   "cell_type": "code",
   "execution_count": 3,
   "metadata": {},
   "outputs": [],
   "source": [
    "lines=spark.read.text(\"./ml-latest-small/ratings.csv\").rdd"
   ]
  },
  {
   "cell_type": "code",
   "execution_count": 11,
   "metadata": {},
   "outputs": [],
   "source": [
    "parts = lines.map(lambda row: row.value.split(\",\"))"
   ]
  },
  {
   "cell_type": "code",
   "execution_count": 16,
   "metadata": {},
   "outputs": [],
   "source": [
    "ratingsRDD = parts.map(lambda p: Row(userId=int(p[0]), movieId=int(p[1]),\n",
    "                                     rating=float(p[2]), timestamp=int(p[3])))"
   ]
  },
  {
   "cell_type": "code",
   "execution_count": 17,
   "metadata": {},
   "outputs": [],
   "source": [
    "ratings = spark.createDataFrame(ratingsRDD)"
   ]
  },
  {
   "cell_type": "code",
   "execution_count": 18,
   "metadata": {},
   "outputs": [
    {
     "name": "stdout",
     "output_type": "stream",
     "text": [
      "root\n",
      " |-- movieId: long (nullable = true)\n",
      " |-- rating: double (nullable = true)\n",
      " |-- timestamp: long (nullable = true)\n",
      " |-- userId: long (nullable = true)\n",
      "\n"
     ]
    }
   ],
   "source": [
    "ratings.printSchema()"
   ]
  },
  {
   "cell_type": "code",
   "execution_count": 19,
   "metadata": {},
   "outputs": [
    {
     "name": "stdout",
     "output_type": "stream",
     "text": [
      "+-------+------+---------+------+\n",
      "|movieId|rating|timestamp|userId|\n",
      "+-------+------+---------+------+\n",
      "|      1|   4.0|964982703|     1|\n",
      "|      3|   4.0|964981247|     1|\n",
      "|      6|   4.0|964982224|     1|\n",
      "|     47|   5.0|964983815|     1|\n",
      "|     50|   5.0|964982931|     1|\n",
      "|     70|   3.0|964982400|     1|\n",
      "|    101|   5.0|964980868|     1|\n",
      "|    110|   4.0|964982176|     1|\n",
      "|    151|   5.0|964984041|     1|\n",
      "|    157|   5.0|964984100|     1|\n",
      "|    163|   5.0|964983650|     1|\n",
      "|    216|   5.0|964981208|     1|\n",
      "|    223|   3.0|964980985|     1|\n",
      "|    231|   5.0|964981179|     1|\n",
      "|    235|   4.0|964980908|     1|\n",
      "|    260|   5.0|964981680|     1|\n",
      "|    296|   3.0|964982967|     1|\n",
      "|    316|   3.0|964982310|     1|\n",
      "|    333|   5.0|964981179|     1|\n",
      "|    349|   4.0|964982563|     1|\n",
      "+-------+------+---------+------+\n",
      "only showing top 20 rows\n",
      "\n"
     ]
    }
   ],
   "source": [
    "ratings.show()"
   ]
  },
  {
   "cell_type": "code",
   "execution_count": 20,
   "metadata": {},
   "outputs": [],
   "source": [
    "als = ALS(maxIter=5, regParam=0.01, userCol=\"userId\", itemCol=\"movieId\", ratingCol=\"rating\",\n",
    "          coldStartStrategy=\"drop\")"
   ]
  },
  {
   "cell_type": "code",
   "execution_count": 22,
   "metadata": {},
   "outputs": [],
   "source": [
    "model = als.fit(ratings)\n"
   ]
  },
  {
   "cell_type": "code",
   "execution_count": 24,
   "metadata": {},
   "outputs": [],
   "source": [
    "userRecs=model.recommendForAllUsers(10)"
   ]
  },
  {
   "cell_type": "code",
   "execution_count": 26,
   "metadata": {},
   "outputs": [
    {
     "name": "stdout",
     "output_type": "stream",
     "text": [
      "+------+--------------------+\n",
      "|userId|     recommendations|\n",
      "+------+--------------------+\n",
      "|   471|[[4248, 9.54594],...|\n",
      "|   463|[[6380, 6.7925863...|\n",
      "|   496|[[5080, 10.06289]...|\n",
      "|   148|[[72167, 7.054126...|\n",
      "|   540|[[2239, 6.539907]...|\n",
      "|   392|[[89118, 15.54864...|\n",
      "|   243|[[48322, 8.790028...|\n",
      "|    31|[[6380, 9.513541]...|\n",
      "|   516|[[85367, 8.273881...|\n",
      "|   580|[[54256, 6.555609...|\n",
      "|   251|[[6461, 7.640572]...|\n",
      "|   451|[[103341, 8.24939...|\n",
      "|    85|[[4474, 8.76842],...|\n",
      "|   137|[[535, 5.7677956]...|\n",
      "|    65|[[2936, 6.2114697...|\n",
      "|   458|[[3270, 8.891875]...|\n",
      "|   481|[[2290, 8.551037]...|\n",
      "|    53|[[2239, 7.867791]...|\n",
      "|   255|[[4802, 12.387266...|\n",
      "|   588|[[2290, 8.612237]...|\n",
      "+------+--------------------+\n",
      "only showing top 20 rows\n",
      "\n"
     ]
    }
   ],
   "source": [
    "userRecs.show()"
   ]
  },
  {
   "cell_type": "code",
   "execution_count": 27,
   "metadata": {},
   "outputs": [],
   "source": [
    "itemRecs=model.recommendForAllItems(10)"
   ]
  },
  {
   "cell_type": "code",
   "execution_count": 28,
   "metadata": {},
   "outputs": [
    {
     "name": "stdout",
     "output_type": "stream",
     "text": [
      "+-------+--------------------+\n",
      "|movieId|     recommendations|\n",
      "+-------+--------------------+\n",
      "|   1580|[[258, 6.720557],...|\n",
      "|   4900|[[413, 7.922308],...|\n",
      "|   5300|[[461, 6.730769],...|\n",
      "|   6620|[[81, 8.26186], [...|\n",
      "|   7340|[[494, 7.8861723]...|\n",
      "|  32460|[[173, 7.4233856]...|\n",
      "|  54190|[[112, 9.180499],...|\n",
      "|    471|[[461, 8.891054],...|\n",
      "|   1591|[[138, 8.779334],...|\n",
      "| 140541|[[259, 7.3094997]...|\n",
      "|   1342|[[77, 6.755507], ...|\n",
      "|   2122|[[112, 9.486969],...|\n",
      "|   2142|[[531, 6.4050665]...|\n",
      "|   7982|[[497, 9.596617],...|\n",
      "|  44022|[[258, 6.184769],...|\n",
      "| 141422|[[461, 6.0717373]...|\n",
      "| 144522|[[35, 4.1572585],...|\n",
      "|    833|[[394, 7.965689],...|\n",
      "|   5803|[[392, 8.323678],...|\n",
      "|   7833|[[259, 8.228318],...|\n",
      "+-------+--------------------+\n",
      "only showing top 20 rows\n",
      "\n"
     ]
    }
   ],
   "source": [
    "itemRecs.show()"
   ]
  },
  {
   "cell_type": "code",
   "execution_count": 41,
   "metadata": {},
   "outputs": [],
   "source": [
    "users = ratings.select(als.getUserCol()).distinct().limit(3)\n"
   ]
  },
  {
   "cell_type": "code",
   "execution_count": 85,
   "metadata": {},
   "outputs": [],
   "source": []
  },
  {
   "cell_type": "code",
   "execution_count": 86,
   "metadata": {},
   "outputs": [
    {
     "data": {
      "text/plain": [
       "'data'"
      ]
     },
     "execution_count": 86,
     "metadata": {},
     "output_type": "execute_result"
    }
   ],
   "source": []
  },
  {
   "cell_type": "code",
   "execution_count": 87,
   "metadata": {},
   "outputs": [],
   "source": [
    "tmp=spark.createDataFrame([463],\"int\").withColumnRenamed(\"value\",\"userId\")"
   ]
  },
  {
   "cell_type": "code",
   "execution_count": 88,
   "metadata": {},
   "outputs": [
    {
     "name": "stdout",
     "output_type": "stream",
     "text": [
      "+------+\n",
      "|userId|\n",
      "+------+\n",
      "|   463|\n",
      "+------+\n",
      "\n"
     ]
    }
   ],
   "source": [
    "tmp.show()"
   ]
  },
  {
   "cell_type": "code",
   "execution_count": 89,
   "metadata": {},
   "outputs": [
    {
     "data": {
      "text/plain": [
       "DataFrame[userId: int, recommendations: array<struct<movieId:int,rating:float>>]"
      ]
     },
     "execution_count": 89,
     "metadata": {},
     "output_type": "execute_result"
    }
   ],
   "source": [
    "model.recommendForUserSubset(tmp,10)"
   ]
  },
  {
   "cell_type": "code",
   "execution_count": null,
   "metadata": {},
   "outputs": [],
   "source": []
  }
 ],
 "metadata": {
  "kernelspec": {
   "display_name": "Python 3",
   "language": "python",
   "name": "python3"
  },
  "language_info": {
   "codemirror_mode": {
    "name": "ipython",
    "version": 3
   },
   "file_extension": ".py",
   "mimetype": "text/x-python",
   "name": "python",
   "nbconvert_exporter": "python",
   "pygments_lexer": "ipython3",
   "version": "3.7.4"
  }
 },
 "nbformat": 4,
 "nbformat_minor": 4
}
