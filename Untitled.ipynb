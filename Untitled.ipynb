{
 "cells": [
  {
   "cell_type": "code",
   "execution_count": 5,
   "metadata": {},
   "outputs": [],
   "source": [
    "import numpy as np\n",
    "import pandas as pd\n",
    "df = pd.DataFrame(np.random.randn(6, 4), index=[1,2,3,4,5,6], columns=list('ABCD'))"
   ]
  },
  {
   "cell_type": "code",
   "execution_count": 6,
   "metadata": {},
   "outputs": [
    {
     "data": {
      "text/html": [
       "<div>\n",
       "<style scoped>\n",
       "    .dataframe tbody tr th:only-of-type {\n",
       "        vertical-align: middle;\n",
       "    }\n",
       "\n",
       "    .dataframe tbody tr th {\n",
       "        vertical-align: top;\n",
       "    }\n",
       "\n",
       "    .dataframe thead th {\n",
       "        text-align: right;\n",
       "    }\n",
       "</style>\n",
       "<table border=\"1\" class=\"dataframe\">\n",
       "  <thead>\n",
       "    <tr style=\"text-align: right;\">\n",
       "      <th></th>\n",
       "      <th>A</th>\n",
       "      <th>B</th>\n",
       "      <th>C</th>\n",
       "      <th>D</th>\n",
       "    </tr>\n",
       "  </thead>\n",
       "  <tbody>\n",
       "    <tr>\n",
       "      <td>1</td>\n",
       "      <td>1.112301</td>\n",
       "      <td>0.640136</td>\n",
       "      <td>-1.157753</td>\n",
       "      <td>-0.694084</td>\n",
       "    </tr>\n",
       "    <tr>\n",
       "      <td>2</td>\n",
       "      <td>-0.814697</td>\n",
       "      <td>-0.810220</td>\n",
       "      <td>0.499649</td>\n",
       "      <td>0.163122</td>\n",
       "    </tr>\n",
       "    <tr>\n",
       "      <td>3</td>\n",
       "      <td>-0.251119</td>\n",
       "      <td>0.011480</td>\n",
       "      <td>-0.455530</td>\n",
       "      <td>-0.750793</td>\n",
       "    </tr>\n",
       "    <tr>\n",
       "      <td>4</td>\n",
       "      <td>0.154650</td>\n",
       "      <td>-0.412723</td>\n",
       "      <td>-1.471111</td>\n",
       "      <td>1.226769</td>\n",
       "    </tr>\n",
       "    <tr>\n",
       "      <td>5</td>\n",
       "      <td>0.582801</td>\n",
       "      <td>-0.651650</td>\n",
       "      <td>-0.840996</td>\n",
       "      <td>0.346303</td>\n",
       "    </tr>\n",
       "    <tr>\n",
       "      <td>6</td>\n",
       "      <td>-1.293037</td>\n",
       "      <td>-1.162369</td>\n",
       "      <td>-0.005858</td>\n",
       "      <td>1.193903</td>\n",
       "    </tr>\n",
       "  </tbody>\n",
       "</table>\n",
       "</div>"
      ],
      "text/plain": [
       "          A         B         C         D\n",
       "1  1.112301  0.640136 -1.157753 -0.694084\n",
       "2 -0.814697 -0.810220  0.499649  0.163122\n",
       "3 -0.251119  0.011480 -0.455530 -0.750793\n",
       "4  0.154650 -0.412723 -1.471111  1.226769\n",
       "5  0.582801 -0.651650 -0.840996  0.346303\n",
       "6 -1.293037 -1.162369 -0.005858  1.193903"
      ]
     },
     "execution_count": 6,
     "metadata": {},
     "output_type": "execute_result"
    }
   ],
   "source": [
    "df"
   ]
  },
  {
   "cell_type": "code",
   "execution_count": 59,
   "metadata": {},
   "outputs": [],
   "source": [
    " df.loc[1]['D']=np.nan"
   ]
  },
  {
   "cell_type": "code",
   "execution_count": 56,
   "metadata": {},
   "outputs": [],
   "source": [
    "from scipy.spatial.distance import cosine\n",
    "\n",
    "def calCos(a,b):\n",
    "    return 0.5+0.5*(1-cosine(a, b))"
   ]
  },
  {
   "cell_type": "code",
   "execution_count": 57,
   "metadata": {},
   "outputs": [
    {
     "data": {
      "text/html": [
       "<div>\n",
       "<style scoped>\n",
       "    .dataframe tbody tr th:only-of-type {\n",
       "        vertical-align: middle;\n",
       "    }\n",
       "\n",
       "    .dataframe tbody tr th {\n",
       "        vertical-align: top;\n",
       "    }\n",
       "\n",
       "    .dataframe thead th {\n",
       "        text-align: right;\n",
       "    }\n",
       "</style>\n",
       "<table border=\"1\" class=\"dataframe\">\n",
       "  <thead>\n",
       "    <tr style=\"text-align: right;\">\n",
       "      <th></th>\n",
       "      <th>A</th>\n",
       "      <th>B</th>\n",
       "      <th>C</th>\n",
       "      <th>D</th>\n",
       "    </tr>\n",
       "  </thead>\n",
       "  <tbody>\n",
       "    <tr>\n",
       "      <td>A</td>\n",
       "      <td>1.000000</td>\n",
       "      <td>0.849834</td>\n",
       "      <td>0.234977</td>\n",
       "      <td>0.327104</td>\n",
       "    </tr>\n",
       "    <tr>\n",
       "      <td>B</td>\n",
       "      <td>0.849834</td>\n",
       "      <td>1.000000</td>\n",
       "      <td>0.501444</td>\n",
       "      <td>0.132817</td>\n",
       "    </tr>\n",
       "    <tr>\n",
       "      <td>C</td>\n",
       "      <td>0.234977</td>\n",
       "      <td>0.501444</td>\n",
       "      <td>1.000000</td>\n",
       "      <td>0.258780</td>\n",
       "    </tr>\n",
       "    <tr>\n",
       "      <td>D</td>\n",
       "      <td>0.327104</td>\n",
       "      <td>0.132817</td>\n",
       "      <td>0.258780</td>\n",
       "      <td>1.000000</td>\n",
       "    </tr>\n",
       "  </tbody>\n",
       "</table>\n",
       "</div>"
      ],
      "text/plain": [
       "          A         B         C         D\n",
       "A  1.000000  0.849834  0.234977  0.327104\n",
       "B  0.849834  1.000000  0.501444  0.132817\n",
       "C  0.234977  0.501444  1.000000  0.258780\n",
       "D  0.327104  0.132817  0.258780  1.000000"
      ]
     },
     "execution_count": 57,
     "metadata": {},
     "output_type": "execute_result"
    }
   ],
   "source": [
    " df.corr(method=calCos)"
   ]
  },
  {
   "cell_type": "code",
   "execution_count": 46,
   "metadata": {},
   "outputs": [],
   "source": [
    "a=[1,1,2,1,1,1,0,0,np.nan]\n",
    "b=[1,1,1,0,1,1,1,1,1]"
   ]
  },
  {
   "cell_type": "code",
   "execution_count": 58,
   "metadata": {},
   "outputs": [
    {
     "data": {
      "text/plain": [
       "nan"
      ]
     },
     "execution_count": 58,
     "metadata": {},
     "output_type": "execute_result"
    }
   ],
   "source": [
    "0.5+0.5*(1-cosine(a, b))"
   ]
  },
  {
   "cell_type": "code",
   "execution_count": 60,
   "metadata": {},
   "outputs": [
    {
     "data": {
      "text/html": [
       "<div>\n",
       "<style scoped>\n",
       "    .dataframe tbody tr th:only-of-type {\n",
       "        vertical-align: middle;\n",
       "    }\n",
       "\n",
       "    .dataframe tbody tr th {\n",
       "        vertical-align: top;\n",
       "    }\n",
       "\n",
       "    .dataframe thead th {\n",
       "        text-align: right;\n",
       "    }\n",
       "</style>\n",
       "<table border=\"1\" class=\"dataframe\">\n",
       "  <thead>\n",
       "    <tr style=\"text-align: right;\">\n",
       "      <th></th>\n",
       "      <th>A</th>\n",
       "      <th>B</th>\n",
       "      <th>C</th>\n",
       "      <th>D</th>\n",
       "    </tr>\n",
       "  </thead>\n",
       "  <tbody>\n",
       "    <tr>\n",
       "      <td>1</td>\n",
       "      <td>1.112301</td>\n",
       "      <td>0.640136</td>\n",
       "      <td>-1.157753</td>\n",
       "      <td>NaN</td>\n",
       "    </tr>\n",
       "    <tr>\n",
       "      <td>2</td>\n",
       "      <td>-0.814697</td>\n",
       "      <td>-0.810220</td>\n",
       "      <td>0.499649</td>\n",
       "      <td>0.163122</td>\n",
       "    </tr>\n",
       "    <tr>\n",
       "      <td>3</td>\n",
       "      <td>-0.251119</td>\n",
       "      <td>0.011480</td>\n",
       "      <td>-0.455530</td>\n",
       "      <td>-0.750793</td>\n",
       "    </tr>\n",
       "    <tr>\n",
       "      <td>4</td>\n",
       "      <td>0.154650</td>\n",
       "      <td>-0.412723</td>\n",
       "      <td>-1.471111</td>\n",
       "      <td>1.226769</td>\n",
       "    </tr>\n",
       "    <tr>\n",
       "      <td>5</td>\n",
       "      <td>0.582801</td>\n",
       "      <td>-0.651650</td>\n",
       "      <td>-0.840996</td>\n",
       "      <td>0.346303</td>\n",
       "    </tr>\n",
       "    <tr>\n",
       "      <td>6</td>\n",
       "      <td>-1.293037</td>\n",
       "      <td>-1.162369</td>\n",
       "      <td>-0.005858</td>\n",
       "      <td>1.193903</td>\n",
       "    </tr>\n",
       "  </tbody>\n",
       "</table>\n",
       "</div>"
      ],
      "text/plain": [
       "          A         B         C         D\n",
       "1  1.112301  0.640136 -1.157753       NaN\n",
       "2 -0.814697 -0.810220  0.499649  0.163122\n",
       "3 -0.251119  0.011480 -0.455530 -0.750793\n",
       "4  0.154650 -0.412723 -1.471111  1.226769\n",
       "5  0.582801 -0.651650 -0.840996  0.346303\n",
       "6 -1.293037 -1.162369 -0.005858  1.193903"
      ]
     },
     "execution_count": 60,
     "metadata": {},
     "output_type": "execute_result"
    }
   ],
   "source": [
    "df"
   ]
  },
  {
   "cell_type": "code",
   "execution_count": 68,
   "metadata": {},
   "outputs": [
    {
     "data": {
      "text/plain": [
       " 1.193903    1\n",
       " 0.346303    1\n",
       "-0.750793    1\n",
       " 1.226769    1\n",
       " 0.163122    1\n",
       "Name: D, dtype: int64"
      ]
     },
     "execution_count": 68,
     "metadata": {},
     "output_type": "execute_result"
    }
   ],
   "source": [
    "df['D'].value_counts()"
   ]
  },
  {
   "cell_type": "code",
   "execution_count": 66,
   "metadata": {},
   "outputs": [
    {
     "data": {
      "text/plain": [
       "0    1\n",
       "dtype: int64"
      ]
     },
     "execution_count": 66,
     "metadata": {},
     "output_type": "execute_result"
    }
   ],
   "source": [
    "pd.Series([1,2,3])[[True,False,False]]"
   ]
  },
  {
   "cell_type": "code",
   "execution_count": 91,
   "metadata": {},
   "outputs": [
    {
     "data": {
      "text/html": [
       "<div>\n",
       "<style scoped>\n",
       "    .dataframe tbody tr th:only-of-type {\n",
       "        vertical-align: middle;\n",
       "    }\n",
       "\n",
       "    .dataframe tbody tr th {\n",
       "        vertical-align: top;\n",
       "    }\n",
       "\n",
       "    .dataframe thead th {\n",
       "        text-align: right;\n",
       "    }\n",
       "</style>\n",
       "<table border=\"1\" class=\"dataframe\">\n",
       "  <thead>\n",
       "    <tr style=\"text-align: right;\">\n",
       "      <th></th>\n",
       "      <th>A</th>\n",
       "      <th>B</th>\n",
       "      <th>C</th>\n",
       "      <th>D</th>\n",
       "    </tr>\n",
       "  </thead>\n",
       "  <tbody>\n",
       "    <tr>\n",
       "      <td>1</td>\n",
       "      <td>2.112301</td>\n",
       "      <td>1.640136</td>\n",
       "      <td>-0.157753</td>\n",
       "      <td>NaN</td>\n",
       "    </tr>\n",
       "    <tr>\n",
       "      <td>2</td>\n",
       "      <td>0.185303</td>\n",
       "      <td>0.189780</td>\n",
       "      <td>1.499649</td>\n",
       "      <td>1.163122</td>\n",
       "    </tr>\n",
       "    <tr>\n",
       "      <td>3</td>\n",
       "      <td>0.748881</td>\n",
       "      <td>1.011480</td>\n",
       "      <td>0.544470</td>\n",
       "      <td>0.249207</td>\n",
       "    </tr>\n",
       "    <tr>\n",
       "      <td>4</td>\n",
       "      <td>1.154650</td>\n",
       "      <td>0.587277</td>\n",
       "      <td>-0.471111</td>\n",
       "      <td>2.226769</td>\n",
       "    </tr>\n",
       "    <tr>\n",
       "      <td>5</td>\n",
       "      <td>1.582801</td>\n",
       "      <td>0.348350</td>\n",
       "      <td>0.159004</td>\n",
       "      <td>1.346303</td>\n",
       "    </tr>\n",
       "    <tr>\n",
       "      <td>6</td>\n",
       "      <td>-0.293037</td>\n",
       "      <td>-0.162369</td>\n",
       "      <td>0.994142</td>\n",
       "      <td>2.193903</td>\n",
       "    </tr>\n",
       "  </tbody>\n",
       "</table>\n",
       "</div>"
      ],
      "text/plain": [
       "          A         B         C         D\n",
       "1  2.112301  1.640136 -0.157753       NaN\n",
       "2  0.185303  0.189780  1.499649  1.163122\n",
       "3  0.748881  1.011480  0.544470  0.249207\n",
       "4  1.154650  0.587277 -0.471111  2.226769\n",
       "5  1.582801  0.348350  0.159004  1.346303\n",
       "6 -0.293037 -0.162369  0.994142  2.193903"
      ]
     },
     "execution_count": 91,
     "metadata": {},
     "output_type": "execute_result"
    }
   ],
   "source": [
    "df.applymap(lambda a:a+1)"
   ]
  },
  {
   "cell_type": "code",
   "execution_count": null,
   "metadata": {},
   "outputs": [],
   "source": []
  }
 ],
 "metadata": {
  "kernelspec": {
   "display_name": "Python 3",
   "language": "python",
   "name": "python3"
  },
  "language_info": {
   "codemirror_mode": {
    "name": "ipython",
    "version": 3
   },
   "file_extension": ".py",
   "mimetype": "text/x-python",
   "name": "python",
   "nbconvert_exporter": "python",
   "pygments_lexer": "ipython3",
   "version": "3.7.4"
  }
 },
 "nbformat": 4,
 "nbformat_minor": 4
}
