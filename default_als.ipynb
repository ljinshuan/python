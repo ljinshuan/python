{
 "cells": [
  {
   "cell_type": "code",
   "execution_count": 4,
   "metadata": {},
   "outputs": [],
   "source": [
    "from pyspark.ml.evaluation import RegressionEvaluator\n",
    "from pyspark.ml.recommendation import ALS\n",
    "from pyspark.sql import Row\n",
    "from pyspark.sql import SparkSession"
   ]
  },
  {
   "cell_type": "code",
   "execution_count": 5,
   "metadata": {},
   "outputs": [],
   "source": [
    "spark=SparkSession.builder.appName(\"SimpleApp\").getOrCreate()"
   ]
  },
  {
   "cell_type": "code",
   "execution_count": null,
   "metadata": {},
   "outputs": [],
   "source": []
  },
  {
   "cell_type": "code",
   "execution_count": 6,
   "metadata": {},
   "outputs": [
    {
     "data": {
      "text/html": [
       "\n",
       "            <div>\n",
       "                <p><b>SparkSession - in-memory</b></p>\n",
       "                \n",
       "        <div>\n",
       "            <p><b>SparkContext</b></p>\n",
       "\n",
       "            <p><a href=\"http://30.10.72.132:4040\">Spark UI</a></p>\n",
       "\n",
       "            <dl>\n",
       "              <dt>Version</dt>\n",
       "                <dd><code>v2.4.4</code></dd>\n",
       "              <dt>Master</dt>\n",
       "                <dd><code>local[*]</code></dd>\n",
       "              <dt>AppName</dt>\n",
       "                <dd><code>SimpleApp</code></dd>\n",
       "            </dl>\n",
       "        </div>\n",
       "        \n",
       "            </div>\n",
       "        "
      ],
      "text/plain": [
       "<pyspark.sql.session.SparkSession at 0x116799f50>"
      ]
     },
     "execution_count": 6,
     "metadata": {},
     "output_type": "execute_result"
    }
   ],
   "source": [
    "spark\n"
   ]
  },
  {
   "cell_type": "code",
   "execution_count": 7,
   "metadata": {},
   "outputs": [
    {
     "name": "stdout",
     "output_type": "stream",
     "text": [
      "<pyspark.sql.session.SparkSession object at 0x116799f50>\n"
     ]
    }
   ],
   "source": [
    "print(spark)"
   ]
  },
  {
   "cell_type": "code",
   "execution_count": 8,
   "metadata": {},
   "outputs": [
    {
     "name": "stdout",
     "output_type": "stream",
     "text": [
      "hello world\n"
     ]
    }
   ],
   "source": [
    "print(\"hello world\")"
   ]
  },
  {
   "cell_type": "code",
   "execution_count": 9,
   "metadata": {},
   "outputs": [],
   "source": [
    "lines = spark.read.text(\"/Users/jinshuan.li/DevTools/spark-2.4.4/data/mllib/als/sample_movielens_ratings.txt\")\n"
   ]
  },
  {
   "cell_type": "code",
   "execution_count": 12,
   "metadata": {},
   "outputs": [],
   "source": [
    "lines=lines.rdd"
   ]
  },
  {
   "cell_type": "code",
   "execution_count": 21,
   "metadata": {},
   "outputs": [],
   "source": [
    "parts = lines.map(lambda row: row.value.split(\"::\"))\n"
   ]
  },
  {
   "cell_type": "code",
   "execution_count": 25,
   "metadata": {},
   "outputs": [],
   "source": [
    "ratingsRDD = parts.map(lambda p: Row(userId=int(p[0]), movieId=int(p[1]),\n",
    "                                     rating=float(p[2]), timestamp=int(p[3])))"
   ]
  },
  {
   "cell_type": "code",
   "execution_count": 26,
   "metadata": {},
   "outputs": [],
   "source": [
    "ratings = spark.createDataFrame(ratingsRDD)"
   ]
  },
  {
   "cell_type": "code",
   "execution_count": 33,
   "metadata": {},
   "outputs": [],
   "source": [
    "(training, test) = ratings.randomSplit([0.8, 0.2])"
   ]
  },
  {
   "cell_type": "code",
   "execution_count": 34,
   "metadata": {},
   "outputs": [],
   "source": [
    "als = ALS(maxIter=5, regParam=0.01, userCol=\"userId\", itemCol=\"movieId\", ratingCol=\"rating\",\n",
    "          coldStartStrategy=\"drop\")"
   ]
  },
  {
   "cell_type": "code",
   "execution_count": 35,
   "metadata": {},
   "outputs": [],
   "source": [
    "model = als.fit(training)\n"
   ]
  },
  {
   "cell_type": "code",
   "execution_count": 36,
   "metadata": {},
   "outputs": [
    {
     "data": {
      "text/plain": [
       "ALS_ed3d43210244"
      ]
     },
     "execution_count": 36,
     "metadata": {},
     "output_type": "execute_result"
    }
   ],
   "source": [
    "model"
   ]
  },
  {
   "cell_type": "code",
   "execution_count": 37,
   "metadata": {},
   "outputs": [],
   "source": [
    "predictions = model.transform(test)\n"
   ]
  },
  {
   "cell_type": "code",
   "execution_count": 38,
   "metadata": {},
   "outputs": [
    {
     "name": "stdout",
     "output_type": "stream",
     "text": [
      "Root-mean-square error = 1.8742948208260084\n"
     ]
    }
   ],
   "source": [
    "evaluator = RegressionEvaluator(metricName=\"rmse\", labelCol=\"rating\",\n",
    "                                predictionCol=\"prediction\")\n",
    "rmse = evaluator.evaluate(predictions)\n",
    "print(\"Root-mean-square error = \" + str(rmse))"
   ]
  },
  {
   "cell_type": "code",
   "execution_count": 39,
   "metadata": {},
   "outputs": [],
   "source": [
    "userRecs = model.recommendForAllUsers(10)"
   ]
  },
  {
   "cell_type": "code",
   "execution_count": 46,
   "metadata": {},
   "outputs": [
    {
     "name": "stdout",
     "output_type": "stream",
     "text": [
      "+------+--------------------+\n",
      "|userId|     recommendations|\n",
      "+------+--------------------+\n",
      "|    28|[[25, 7.616129], ...|\n",
      "|    26|[[51, 5.903876], ...|\n",
      "|    27|[[80, 4.770147], ...|\n",
      "|    12|[[90, 5.735796], ...|\n",
      "|    22|[[51, 5.0784936],...|\n",
      "|     1|[[62, 3.7708645],...|\n",
      "|    13|[[80, 4.9686475],...|\n",
      "|     6|[[25, 4.314672], ...|\n",
      "|    16|[[32, 5.3282638],...|\n",
      "|     3|[[51, 4.654152], ...|\n",
      "|    20|[[75, 3.9568381],...|\n",
      "|     5|[[55, 4.976837], ...|\n",
      "|    19|[[30, 5.7033706],...|\n",
      "|    15|[[62, 5.5941696],...|\n",
      "|    17|[[30, 6.4869847],...|\n",
      "|     9|[[66, 3.8748264],...|\n",
      "|     4|[[76, 4.0555706],...|\n",
      "|     8|[[52, 5.154766], ...|\n",
      "|    23|[[90, 6.4023914],...|\n",
      "|     7|[[25, 4.777889], ...|\n",
      "+------+--------------------+\n",
      "only showing top 20 rows\n",
      "\n"
     ]
    }
   ],
   "source": [
    "userRecs.show()"
   ]
  },
  {
   "cell_type": "code",
   "execution_count": 54,
   "metadata": {},
   "outputs": [],
   "source": [
    "uidRecs=userRecs.where(userRecs.userId==28).first()"
   ]
  },
  {
   "cell_type": "code",
   "execution_count": 56,
   "metadata": {},
   "outputs": [
    {
     "data": {
      "text/html": [
       "<div>\n",
       "<style scoped>\n",
       "    .dataframe tbody tr th:only-of-type {\n",
       "        vertical-align: middle;\n",
       "    }\n",
       "\n",
       "    .dataframe tbody tr th {\n",
       "        vertical-align: top;\n",
       "    }\n",
       "\n",
       "    .dataframe thead th {\n",
       "        text-align: right;\n",
       "    }\n",
       "</style>\n",
       "<table border=\"1\" class=\"dataframe\">\n",
       "  <thead>\n",
       "    <tr style=\"text-align: right;\">\n",
       "      <th></th>\n",
       "      <th>userId</th>\n",
       "      <th>recommendations</th>\n",
       "    </tr>\n",
       "  </thead>\n",
       "  <tbody>\n",
       "    <tr>\n",
       "      <td>0</td>\n",
       "      <td>28</td>\n",
       "      <td>[(25, 7.616128921508789), (48, 4.9996628761291...</td>\n",
       "    </tr>\n",
       "    <tr>\n",
       "      <td>1</td>\n",
       "      <td>26</td>\n",
       "      <td>[(51, 5.903875827789307), (77, 5.7500386238098...</td>\n",
       "    </tr>\n",
       "    <tr>\n",
       "      <td>2</td>\n",
       "      <td>27</td>\n",
       "      <td>[(80, 4.77014684677124), (53, 4.07072973251342...</td>\n",
       "    </tr>\n",
       "    <tr>\n",
       "      <td>3</td>\n",
       "      <td>12</td>\n",
       "      <td>[(90, 5.735795974731445), (48, 5.3047142028808...</td>\n",
       "    </tr>\n",
       "    <tr>\n",
       "      <td>4</td>\n",
       "      <td>22</td>\n",
       "      <td>[(51, 5.078493595123291), (75, 4.9952054023742...</td>\n",
       "    </tr>\n",
       "    <tr>\n",
       "      <td>5</td>\n",
       "      <td>1</td>\n",
       "      <td>[(62, 3.770864486694336), (51, 3.6145625114440...</td>\n",
       "    </tr>\n",
       "    <tr>\n",
       "      <td>6</td>\n",
       "      <td>13</td>\n",
       "      <td>[(80, 4.968647480010986), (93, 3.7474310398101...</td>\n",
       "    </tr>\n",
       "    <tr>\n",
       "      <td>7</td>\n",
       "      <td>6</td>\n",
       "      <td>[(25, 4.314671993255615), (92, 4.0913710594177...</td>\n",
       "    </tr>\n",
       "    <tr>\n",
       "      <td>8</td>\n",
       "      <td>16</td>\n",
       "      <td>[(32, 5.328263759613037), (51, 4.7985057830810...</td>\n",
       "    </tr>\n",
       "    <tr>\n",
       "      <td>9</td>\n",
       "      <td>3</td>\n",
       "      <td>[(51, 4.654151916503906), (55, 4.2904396057128...</td>\n",
       "    </tr>\n",
       "    <tr>\n",
       "      <td>10</td>\n",
       "      <td>20</td>\n",
       "      <td>[(75, 3.9568381309509277), (55, 3.791332006454...</td>\n",
       "    </tr>\n",
       "    <tr>\n",
       "      <td>11</td>\n",
       "      <td>5</td>\n",
       "      <td>[(55, 4.976837158203125), (49, 4.6915650367736...</td>\n",
       "    </tr>\n",
       "    <tr>\n",
       "      <td>12</td>\n",
       "      <td>19</td>\n",
       "      <td>[(30, 5.703370571136475), (53, 5.3602075576782...</td>\n",
       "    </tr>\n",
       "    <tr>\n",
       "      <td>13</td>\n",
       "      <td>15</td>\n",
       "      <td>[(62, 5.594169616699219), (41, 4.6800212860107...</td>\n",
       "    </tr>\n",
       "    <tr>\n",
       "      <td>14</td>\n",
       "      <td>17</td>\n",
       "      <td>[(30, 6.486984729766846), (98, 5.1654825210571...</td>\n",
       "    </tr>\n",
       "    <tr>\n",
       "      <td>15</td>\n",
       "      <td>9</td>\n",
       "      <td>[(66, 3.874826431274414), (72, 3.5471830368041...</td>\n",
       "    </tr>\n",
       "    <tr>\n",
       "      <td>16</td>\n",
       "      <td>4</td>\n",
       "      <td>[(76, 4.055570602416992), (62, 4.0119504928588...</td>\n",
       "    </tr>\n",
       "    <tr>\n",
       "      <td>17</td>\n",
       "      <td>8</td>\n",
       "      <td>[(52, 5.154766082763672), (29, 4.8944725990295...</td>\n",
       "    </tr>\n",
       "    <tr>\n",
       "      <td>18</td>\n",
       "      <td>23</td>\n",
       "      <td>[(90, 6.40239143371582), (32, 5.16738843917846...</td>\n",
       "    </tr>\n",
       "    <tr>\n",
       "      <td>19</td>\n",
       "      <td>7</td>\n",
       "      <td>[(25, 4.777888774871826), (29, 4.2092857360839...</td>\n",
       "    </tr>\n",
       "    <tr>\n",
       "      <td>20</td>\n",
       "      <td>10</td>\n",
       "      <td>[(83, 4.880373954772949), (80, 4.1744871139526...</td>\n",
       "    </tr>\n",
       "    <tr>\n",
       "      <td>21</td>\n",
       "      <td>25</td>\n",
       "      <td>[(87, 6.091575622558594), (32, 5.6633653640747...</td>\n",
       "    </tr>\n",
       "    <tr>\n",
       "      <td>22</td>\n",
       "      <td>24</td>\n",
       "      <td>[(53, 5.356276035308838), (96, 5.0512356758117...</td>\n",
       "    </tr>\n",
       "    <tr>\n",
       "      <td>23</td>\n",
       "      <td>29</td>\n",
       "      <td>[(46, 4.8350725173950195), (90, 3.993924140930...</td>\n",
       "    </tr>\n",
       "    <tr>\n",
       "      <td>24</td>\n",
       "      <td>21</td>\n",
       "      <td>[(53, 4.92073392868042), (87, 3.94633507728576...</td>\n",
       "    </tr>\n",
       "    <tr>\n",
       "      <td>25</td>\n",
       "      <td>11</td>\n",
       "      <td>[(27, 5.172160625457764), (32, 5.1289806365966...</td>\n",
       "    </tr>\n",
       "    <tr>\n",
       "      <td>26</td>\n",
       "      <td>14</td>\n",
       "      <td>[(87, 5.499550819396973), (52, 5.0086336135864...</td>\n",
       "    </tr>\n",
       "    <tr>\n",
       "      <td>27</td>\n",
       "      <td>2</td>\n",
       "      <td>[(8, 5.239307403564453), (39, 5.14847087860107...</td>\n",
       "    </tr>\n",
       "    <tr>\n",
       "      <td>28</td>\n",
       "      <td>0</td>\n",
       "      <td>[(25, 5.8979597091674805), (52, 4.420215129852...</td>\n",
       "    </tr>\n",
       "    <tr>\n",
       "      <td>29</td>\n",
       "      <td>18</td>\n",
       "      <td>[(83, 4.794712066650391), (11, 3.8381974697113...</td>\n",
       "    </tr>\n",
       "  </tbody>\n",
       "</table>\n",
       "</div>"
      ],
      "text/plain": [
       "    userId                                    recommendations\n",
       "0       28  [(25, 7.616128921508789), (48, 4.9996628761291...\n",
       "1       26  [(51, 5.903875827789307), (77, 5.7500386238098...\n",
       "2       27  [(80, 4.77014684677124), (53, 4.07072973251342...\n",
       "3       12  [(90, 5.735795974731445), (48, 5.3047142028808...\n",
       "4       22  [(51, 5.078493595123291), (75, 4.9952054023742...\n",
       "5        1  [(62, 3.770864486694336), (51, 3.6145625114440...\n",
       "6       13  [(80, 4.968647480010986), (93, 3.7474310398101...\n",
       "7        6  [(25, 4.314671993255615), (92, 4.0913710594177...\n",
       "8       16  [(32, 5.328263759613037), (51, 4.7985057830810...\n",
       "9        3  [(51, 4.654151916503906), (55, 4.2904396057128...\n",
       "10      20  [(75, 3.9568381309509277), (55, 3.791332006454...\n",
       "11       5  [(55, 4.976837158203125), (49, 4.6915650367736...\n",
       "12      19  [(30, 5.703370571136475), (53, 5.3602075576782...\n",
       "13      15  [(62, 5.594169616699219), (41, 4.6800212860107...\n",
       "14      17  [(30, 6.486984729766846), (98, 5.1654825210571...\n",
       "15       9  [(66, 3.874826431274414), (72, 3.5471830368041...\n",
       "16       4  [(76, 4.055570602416992), (62, 4.0119504928588...\n",
       "17       8  [(52, 5.154766082763672), (29, 4.8944725990295...\n",
       "18      23  [(90, 6.40239143371582), (32, 5.16738843917846...\n",
       "19       7  [(25, 4.777888774871826), (29, 4.2092857360839...\n",
       "20      10  [(83, 4.880373954772949), (80, 4.1744871139526...\n",
       "21      25  [(87, 6.091575622558594), (32, 5.6633653640747...\n",
       "22      24  [(53, 5.356276035308838), (96, 5.0512356758117...\n",
       "23      29  [(46, 4.8350725173950195), (90, 3.993924140930...\n",
       "24      21  [(53, 4.92073392868042), (87, 3.94633507728576...\n",
       "25      11  [(27, 5.172160625457764), (32, 5.1289806365966...\n",
       "26      14  [(87, 5.499550819396973), (52, 5.0086336135864...\n",
       "27       2  [(8, 5.239307403564453), (39, 5.14847087860107...\n",
       "28       0  [(25, 5.8979597091674805), (52, 4.420215129852...\n",
       "29      18  [(83, 4.794712066650391), (11, 3.8381974697113..."
      ]
     },
     "execution_count": 56,
     "metadata": {},
     "output_type": "execute_result"
    }
   ],
   "source": [
    "userRecs.toPandas()"
   ]
  },
  {
   "cell_type": "code",
   "execution_count": 52,
   "metadata": {},
   "outputs": [
    {
     "data": {
      "text/plain": [
       "DataFrame[userId: int, recommendations: array<struct<movieId:int,rating:float>>]"
      ]
     },
     "execution_count": 52,
     "metadata": {},
     "output_type": "execute_result"
    }
   ],
   "source": [
    "userRecs"
   ]
  },
  {
   "cell_type": "code",
   "execution_count": null,
   "metadata": {},
   "outputs": [],
   "source": []
  }
 ],
 "metadata": {
  "kernelspec": {
   "display_name": "Python 3",
   "language": "python",
   "name": "python3"
  },
  "language_info": {
   "codemirror_mode": {
    "name": "ipython",
    "version": 3
   },
   "file_extension": ".py",
   "mimetype": "text/x-python",
   "name": "python",
   "nbconvert_exporter": "python",
   "pygments_lexer": "ipython3",
   "version": "3.7.4"
  }
 },
 "nbformat": 4,
 "nbformat_minor": 4
}
